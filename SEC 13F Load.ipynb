{
 "cells": [
  {
   "cell_type": "markdown",
   "id": "d8178ede-7751-4112-b485-85144604ce1b",
   "metadata": {},
   "source": [
    "# SEC 13F Data Load and Clean\n",
    "This notebook provides a complete pipeline for downloading, parsing, and cleaning U.S. SEC Form 13F Institutional Holdings data.\n",
    "\n",
    "Form 13F is filed quarterly by institutional investment managers with over $100 million in assets under management. It contains detailed holdings of U.S.-listed equities and related securities.\n",
    "\n",
    "## 🔗 SEC official data link:\n",
    "https://www.sec.gov/data-research/sec-markets-data/form-13f-data-sets\n",
    "\n",
    "## 📥 To use this notebook:\n",
    "Download the most recent quarterly dataset from the link above and execute the notebook locally.\n",
    "\n",
    "## 📁 Dataset Documentation\n",
    "This dataset is derived directly from the SEC's structured 13F data files. Each row represents a single security holding reported by an institutional filer as of the quarter-end date.\n",
    "\n",
    "## ✅ Key Columns\n",
    "\n",
    "Column Name\tType\tDescription\n",
    "FILINGMANAGER_NAME\tstr\tName of the institutional investment manager who filed the 13F.\n",
    "NAMEOFISSUER\tstr\tCompany name (issuer) of the reported security.\n",
    "CUSIP\tstr\t9-digit identifier for the security.\n",
    "DATE\tstr\tReporting period end date (e.g., 31-DEC-2024).\n",
    "NUMBER_OF_SHARES\tint\tNumber of shares held by the filer.\n",
    "NOTIONAL_VALUE\tfloat\tMarket value of the holding in USD (reported in whole dollars as of 2023).\n",
    "SUBMISSIONTYPE\tstr\tType of SEC filing: <ul><li>13F-HR: Initial holdings report</li><li>13F-HR/A: Amendment</li><li>13F-NT: Notice (no holdings disclosed)</li></ul>\n",
    "CIK\tstr\tCentral Index Key – unique SEC ID for each institutional manager.\n",
    "INVESTMENTDISCRETION\tstr\tDiscretion type:\n",
    "SOLE, SHARED, or NONE.\n",
    "OTHERMANAGER\tstr\tSequence number of additional managers (if shared discretion applies).\n",
    "ACCESSION_NUMBER\tstr\tUnique identifier for the SEC filing, useful for linking to original EDGAR text.\n",
    "\n",
    "## 📌 Use Case Ideas\n",
    "Track quarterly position changes of large asset managers using FILINGMANAGER_NAME + DATE\n",
    "\n",
    "Identify top holders of a specific company via NAMEOFISSUER\n",
    "\n",
    "Combine with shares outstanding data to estimate ownership percentage\n",
    "\n",
    "Use CIK to link filings across years or with other SEC datasets (e.g., 13D/13G)\n",
    "\n",
    "Distinguish active vs. passive ownership using INVESTMENTDISCRETION\n",
    "\n",
    "## 📎 Data Source\n",
    "This dataset is based on the official SEC Form 13F quarterly releases, provided in tab-delimited (TSV) flat file format:\n",
    "\n",
    "SEC 13F Datasets - EDGAR </br>\n",
    "https://www.sec.gov/data-research/sec-markets-data/form-13f-data-sets\n"
   ]
  },
  {
   "cell_type": "code",
   "execution_count": null,
   "id": "3f45fab9-eb3e-4ded-a8b8-76e6aec6e7e7",
   "metadata": {},
   "outputs": [],
   "source": []
  },
  {
   "cell_type": "code",
   "execution_count": 1,
   "id": "cd85fc5c-a1ff-45cf-b9f2-697a949e9903",
   "metadata": {},
   "outputs": [],
   "source": [
    "import pandas as pd\n",
    "import os\n",
    "\n",
    "# Set the Load Path \n",
    "data_dir = \".../SecFiles/13F/01dec2024-28feb2025_form13f/\"\n"
   ]
  },
  {
   "cell_type": "code",
   "execution_count": null,
   "id": "3758102a-b727-46c2-b915-f8f2d66d7994",
   "metadata": {},
   "outputs": [],
   "source": [
    "\n",
    "# Read 13F files \n",
    "submission_df = pd.read_csv(os.path.join(data_dir, \"SUBMISSION.tsv\"), sep=\"\\t\", dtype=str)\n",
    "coverpage_df = pd.read_csv(os.path.join(data_dir, \"COVERPAGE.tsv\"), sep=\"\\t\", dtype=str)\n",
    "infotable_df = pd.read_csv(os.path.join(data_dir, \"INFOTABLE.tsv\"), sep=\"\\t\", dtype=str)\n",
    "summary_df = pd.read_csv(os.path.join(data_dir, \"SUMMARYPAGE.tsv\"), sep=\"\\t\", dtype=str)\n"
   ]
  },
  {
   "cell_type": "code",
   "execution_count": 19,
   "id": "3a45f558-c427-4613-89db-cda55b0c80a4",
   "metadata": {},
   "outputs": [
    {
     "name": "stdout",
     "output_type": "stream",
     "text": [
      "📄 SUBMISSION:\n",
      "       ACCESSION_NUMBER  FILING_DATE SUBMISSIONTYPE         CIK PERIODOFREPORT\n",
      "0  0001088875-25-000002  31-JAN-2025         13F-HR  0001088875    31-DEC-2024\n",
      "1  0001957363-25-000001  31-JAN-2025         13F-HR  0001957363    31-DEC-2024\n",
      "2  0001088875-25-000004  31-JAN-2025         13F-NT  0001088876    31-DEC-2024\n",
      "3  0001706836-25-000002  31-JAN-2025         13F-HR  0001706836    31-DEC-2024\n",
      "4  0000922423-25-000009  31-JAN-2025         13F-HR  0001407024    31-DEC-2024\n",
      "\n",
      "📄 COVERPAGE:\n",
      "       ACCESSION_NUMBER                        FILINGMANAGER_NAME\n",
      "0  0002031775-25-000001       BridgePort Financial Solutions, LLC\n",
      "1  0001628280-25-008999        Provida Pension Fund Administrator\n",
      "2  0002058285-25-000002          Park Square Financial Group, LLC\n",
      "3  0001667731-25-000316  Total Wealth Planning & Management, Inc.\n",
      "4  0001803156-25-000001                Menard Financial Group LLC\n",
      "\n",
      "📄 INFOTABLE:\n",
      "       ACCESSION_NUMBER    NAMEOFISSUER      CUSIP    VALUE SSHPRNAMT\n",
      "0  0002031775-25-000001           3M CO  88579Y101   613102      4073\n",
      "1  0002031775-25-000001     ABBOTT LABS  002824100   295022      2171\n",
      "2  0002031775-25-000001    ALPHABET INC  02079K305  1320550      7837\n",
      "3  0002031775-25-000001    ALPHABET INC  02079K107   663126      3896\n",
      "4  0002031775-25-000001  AMAZON COM INC  023135106  2016335      9660\n",
      "\n",
      "📄 SUMMARYPAGE:\n",
      "       ACCESSION_NUMBER OTHERINCLUDEDMANAGERSCOUNT TABLEENTRYTOTAL  \\\n",
      "0  0002031775-25-000001                          0             161   \n",
      "1  0001628280-25-008999                          1              66   \n",
      "2  0002058285-25-000002                          0            1350   \n",
      "3  0001667731-25-000316                          0             201   \n",
      "4  0001803156-25-000001                          0             316   \n",
      "\n",
      "  TABLEVALUETOTAL ISCONFIDENTIALOMITTED  \n",
      "0       220894407                     N  \n",
      "1      4588043246                     N  \n",
      "2       144716239                     N  \n",
      "3       110172589                   NaN  \n",
      "4       166695495                     N  \n"
     ]
    }
   ],
   "source": [
    "# Examples \n",
    "print(\"📄 SUBMISSION:\")\n",
    "print(submission_df.head())\n",
    "\n",
    "print(\"\\n📄 COVERPAGE:\")\n",
    "print(coverpage_df[['ACCESSION_NUMBER', 'FILINGMANAGER_NAME']].head())\n",
    "\n",
    "print(\"\\n📄 INFOTABLE:\")\n",
    "print(infotable_df[['ACCESSION_NUMBER', 'NAMEOFISSUER', 'CUSIP', 'VALUE', 'SSHPRNAMT']].head())\n",
    "\n",
    "print(\"\\n📄 SUMMARYPAGE:\")\n",
    "print(summary_df.head())"
   ]
  },
  {
   "cell_type": "code",
   "execution_count": null,
   "id": "61f019e0-f4a8-4157-922c-3c42ecbef5fa",
   "metadata": {},
   "outputs": [],
   "source": []
  },
  {
   "cell_type": "code",
   "execution_count": 15,
   "id": "387d1fa6-ee6f-49b4-bbdf-6163be929e73",
   "metadata": {},
   "outputs": [],
   "source": [
    "# Merge Data \n",
    "meta_df = pd.merge(submission_df[[\"ACCESSION_NUMBER\", \"PERIODOFREPORT\", \"SUBMISSIONTYPE\", \"CIK\"]],\n",
    "                   coverpage_df[[\"ACCESSION_NUMBER\", \"FILINGMANAGER_NAME\"]],\n",
    "                   on=\"ACCESSION_NUMBER\", how=\"inner\")\n",
    "\n",
    "combined_df = pd.merge(infotable_df, meta_df, on=\"ACCESSION_NUMBER\", how=\"inner\")\n",
    "\n",
    "# Rename \n",
    "final_df = combined_df[[\n",
    "    \"FILINGMANAGER_NAME\",\n",
    "    \"NAMEOFISSUER\",\n",
    "    \"CUSIP\",\n",
    "    \"PERIODOFREPORT\",\n",
    "    \"SSHPRNAMT\",\n",
    "    \"VALUE\",\n",
    "    \"SUBMISSIONTYPE\",\n",
    "    \"CIK\",\n",
    "    \"INVESTMENTDISCRETION\",\n",
    "    \"OTHERMANAGER\",\n",
    "    \"ACCESSION_NUMBER\"\n",
    "]].rename(columns={\n",
    "    \"PERIODOFREPORT\": \"DATE\",\n",
    "    \"SSHPRNAMT\": \"NUMBER_OF_SHARES\",\n",
    "    \"VALUE\": \"NOTIONAL_VALUE\", \n",
    "})\n",
    "\n"
   ]
  },
  {
   "cell_type": "code",
   "execution_count": 16,
   "id": "9ce92595-e0ea-4861-ae9b-1029d6950d91",
   "metadata": {},
   "outputs": [
    {
     "data": {
      "text/plain": [
       "Index(['FILINGMANAGER_NAME', 'NAMEOFISSUER', 'CUSIP', 'DATE',\n",
       "       'NUMBER_OF_SHARES', 'NOTIONAL_VALUE', 'SUBMISSIONTYPE', 'CIK',\n",
       "       'INVESTMENTDISCRETION', 'OTHERMANAGER', 'ACCESSION_NUMBER'],\n",
       "      dtype='object')"
      ]
     },
     "execution_count": 16,
     "metadata": {},
     "output_type": "execute_result"
    }
   ],
   "source": [
    "final_df.columns"
   ]
  },
  {
   "cell_type": "code",
   "execution_count": 17,
   "id": "09e1d6c0-984f-4197-8977-b8ce1b884a40",
   "metadata": {},
   "outputs": [
    {
     "name": "stdout",
     "output_type": "stream",
     "text": [
      "                    FILINGMANAGER_NAME    NAMEOFISSUER      CUSIP  \\\n",
      "0  BridgePort Financial Solutions, LLC           3M CO  88579Y101   \n",
      "1  BridgePort Financial Solutions, LLC     ABBOTT LABS  002824100   \n",
      "2  BridgePort Financial Solutions, LLC    ALPHABET INC  02079K305   \n",
      "3  BridgePort Financial Solutions, LLC    ALPHABET INC  02079K107   \n",
      "4  BridgePort Financial Solutions, LLC  AMAZON COM INC  023135106   \n",
      "\n",
      "          DATE  NUMBER_OF_SHARES  NOTIONAL_VALUE SUBMISSIONTYPE         CIK  \\\n",
      "0  31-DEC-2024              4073          613102         13F-HR  0002031775   \n",
      "1  31-DEC-2024              2171          295022         13F-HR  0002031775   \n",
      "2  31-DEC-2024              7837         1320550         13F-HR  0002031775   \n",
      "3  31-DEC-2024              3896          663126         13F-HR  0002031775   \n",
      "4  31-DEC-2024              9660         2016335         13F-HR  0002031775   \n",
      "\n",
      "  INVESTMENTDISCRETION OTHERMANAGER      ACCESSION_NUMBER  \n",
      "0                 SOLE            0  0002031775-25-000001  \n",
      "1                 SOLE            0  0002031775-25-000001  \n",
      "2                 SOLE            0  0002031775-25-000001  \n",
      "3                 SOLE            0  0002031775-25-000001  \n",
      "4                 SOLE            0  0002031775-25-000001  \n"
     ]
    }
   ],
   "source": [
    "# dtype transform \n",
    "final_df[\"NUMBER_OF_SHARES\"] = pd.to_numeric(final_df[\"NUMBER_OF_SHARES\"], errors='coerce')\n",
    "final_df[\"NOTIONAL_VALUE\"] = pd.to_numeric(final_df[\"NOTIONAL_VALUE\"], errors='coerce')\n",
    "\n",
    "# show \n",
    "print(final_df.head())"
   ]
  },
  {
   "cell_type": "code",
   "execution_count": null,
   "id": "f55f5cab-09aa-40be-8a6f-ece1c60b1c77",
   "metadata": {},
   "outputs": [],
   "source": []
  },
  {
   "cell_type": "code",
   "execution_count": null,
   "id": "feac02d2-7145-4049-9279-844521fd2e44",
   "metadata": {},
   "outputs": [],
   "source": []
  },
  {
   "cell_type": "code",
   "execution_count": null,
   "id": "d6d0b431-c814-42fd-aade-859025c40178",
   "metadata": {},
   "outputs": [],
   "source": []
  },
  {
   "cell_type": "code",
   "execution_count": null,
   "id": "7b68de54-356a-4ba2-829d-de7fa4b912d1",
   "metadata": {},
   "outputs": [],
   "source": []
  },
  {
   "cell_type": "code",
   "execution_count": null,
   "id": "b26f87d5-8f9f-4da7-b77e-53cc8c2762af",
   "metadata": {},
   "outputs": [],
   "source": []
  },
  {
   "cell_type": "code",
   "execution_count": null,
   "id": "6b868b22-d128-4d5d-9be3-93c6ab4cd8bb",
   "metadata": {},
   "outputs": [],
   "source": []
  },
  {
   "cell_type": "code",
   "execution_count": null,
   "id": "323be7cb-463b-4dc5-87c0-53f478d0da59",
   "metadata": {},
   "outputs": [],
   "source": []
  },
  {
   "cell_type": "code",
   "execution_count": 12,
   "id": "a3b1adf6-ae65-47ec-9078-69e1f176e79a",
   "metadata": {},
   "outputs": [],
   "source": [
    "import re\n",
    "import pandas as pd\n",
    "from rapidfuzz import process, fuzz\n",
    "\n",
    "# Cleaning function: convert to lowercase and remove common legal suffixes\n",
    "def clean_name(name):\n",
    "    name = name.lower()\n",
    "    name = re.sub(r'\\b(lp|llc|l\\.p\\.|l\\.p|inc\\.|inc|master|fund|limited|partners|series|management|capital|advisors|group|asset|holdings|co|corp|company)\\b', '', name)\n",
    "    name = re.sub(r'[^\\w\\s]', '', name)  # Remove punctuation\n",
    "    name = re.sub(r'\\s+', ' ', name).strip()  # Remove extra spaces\n",
    "    return name\n",
    "\n",
    "# Clean both fund name lists\n",
    "cleaned_firm_list = [(name, clean_name(name)) for name in Firm_fund_name_list]\n",
    "cleaned_f13_list = [(name, clean_name(name)) for name in F13_fund_name_list]\n",
    "\n",
    "# Perform fuzzy matching\n",
    "results = []\n",
    "\n",
    "for firm_original, firm_clean in cleaned_firm_list:\n",
    "    match, score, _ = process.extractOne(\n",
    "        firm_clean, [f13[1] for f13 in cleaned_f13_list], scorer=fuzz.token_sort_ratio\n",
    "    )\n",
    "    matched_f13_original = next(orig for orig, cleaned in cleaned_f13_list if cleaned == match)\n",
    "    results.append({\n",
    "        'Firm_fund_name': firm_original,\n",
    "        'Matched_F13_name': matched_f13_original,\n",
    "        'Similarity_Score': score\n",
    "    })\n",
    "\n",
    "# Convert result to DataFrame\n",
    "df_results = pd.DataFrame(results)\n"
   ]
  },
  {
   "cell_type": "code",
   "execution_count": null,
   "id": "3eb5ced0-f04d-4d3f-8955-088bdb2db01c",
   "metadata": {},
   "outputs": [],
   "source": []
  },
  {
   "cell_type": "code",
   "execution_count": null,
   "id": "2c7495a9-753e-429a-85f1-f9f3bad735e1",
   "metadata": {},
   "outputs": [],
   "source": []
  },
  {
   "cell_type": "code",
   "execution_count": null,
   "id": "15154002-2a32-4603-8326-6bf2b67df1ad",
   "metadata": {},
   "outputs": [],
   "source": []
  },
  {
   "cell_type": "code",
   "execution_count": null,
   "id": "a7c93ea7-4594-4537-812e-2dd92075cd74",
   "metadata": {},
   "outputs": [],
   "source": []
  },
  {
   "cell_type": "code",
   "execution_count": null,
   "id": "dfb8d66a-0231-4149-b13c-0916f5d2096b",
   "metadata": {},
   "outputs": [],
   "source": []
  }
 ],
 "metadata": {
  "kernelspec": {
   "display_name": "Python 3 (ipykernel)",
   "language": "python",
   "name": "python3"
  },
  "language_info": {
   "codemirror_mode": {
    "name": "ipython",
    "version": 3
   },
   "file_extension": ".py",
   "mimetype": "text/x-python",
   "name": "python",
   "nbconvert_exporter": "python",
   "pygments_lexer": "ipython3",
   "version": "3.12.8"
  }
 },
 "nbformat": 4,
 "nbformat_minor": 5
}
